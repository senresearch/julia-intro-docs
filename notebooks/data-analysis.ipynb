{
 "cells": [
  {
   "cell_type": "markdown",
   "id": "866ac0d6",
   "metadata": {
    "slideshow": {
     "slide_type": "slide"
    }
   },
   "source": [
    "# Basic data analysis tasks\n",
    "\n",
    "- Data: Fitness in Arabidopsis recombinant inbred lines\n",
    "- Data input: CSV files, missing data\n",
    "- Data description: Summary statistics, plots\n",
    "- Modeling: Linear regression"
   ]
  },
  {
   "cell_type": "markdown",
   "id": "813335f4",
   "metadata": {
    "slideshow": {
     "slide_type": "slide"
    }
   },
   "source": [
    "## Example: Fitness measured in Arabidopsis recombinant inbred lines\n",
    "\n",
    "Topics: Reading data, JIT compiler, missing data, summary statistics, plots, linear regression "
   ]
  },
  {
   "cell_type": "code",
   "execution_count": null,
   "id": "d4b44769",
   "metadata": {},
   "outputs": [],
   "source": [
    "using Statistics, CSV, Plots, DataFrames, GLM"
   ]
  },
  {
   "cell_type": "markdown",
   "id": "52396c54",
   "metadata": {},
   "source": [
    "## Reading data"
   ]
  },
  {
   "cell_type": "code",
   "execution_count": null,
   "id": "cae6557b",
   "metadata": {},
   "outputs": [],
   "source": [
    "agrenURL = \"https://raw.githubusercontent.com/sens/smalldata/master/arabidopsis/agren2013.csv\"\n",
    "agren = CSV.read(download(agrenURL),DataFrame,missingstring=\"NA\");\n",
    "first(agren,10)"
   ]
  },
  {
   "cell_type": "markdown",
   "id": "4719b6df",
   "metadata": {
    "slideshow": {
     "slide_type": "slide"
    }
   },
   "source": [
    "## Data description"
   ]
  },
  {
   "cell_type": "code",
   "execution_count": null,
   "id": "eefeeb27",
   "metadata": {},
   "outputs": [],
   "source": [
    "describe(agren)"
   ]
  },
  {
   "cell_type": "markdown",
   "id": "687fe956",
   "metadata": {
    "slideshow": {
     "slide_type": "slide"
    }
   },
   "source": [
    "## Calculating summary statistics"
   ]
  },
  {
   "cell_type": "code",
   "execution_count": null,
   "id": "608b1136",
   "metadata": {},
   "outputs": [],
   "source": [
    "mean(skipmissing(agren.it09))"
   ]
  },
  {
   "cell_type": "code",
   "execution_count": null,
   "id": "3ef63e35",
   "metadata": {},
   "outputs": [],
   "source": [
    "mean.(skipmissing.(eachcol(agren)))"
   ]
  },
  {
   "cell_type": "code",
   "execution_count": null,
   "id": "63f2a525",
   "metadata": {},
   "outputs": [],
   "source": [
    "?skipmissing"
   ]
  },
  {
   "cell_type": "markdown",
   "id": "e5985cff",
   "metadata": {
    "slideshow": {
     "slide_type": "slide"
    }
   },
   "source": [
    "## Visualization: histogram"
   ]
  },
  {
   "cell_type": "code",
   "execution_count": null,
   "id": "5ef5bd46",
   "metadata": {},
   "outputs": [],
   "source": [
    "histogram(Float64.(skipmissing(agren.it09)),lab=\"\")\n",
    "# display.(histogram.(eachcol(agren)))"
   ]
  },
  {
   "cell_type": "markdown",
   "id": "a31109a8",
   "metadata": {
    "slideshow": {
     "slide_type": "slide"
    }
   },
   "source": [
    "## Visualization: scatterplot"
   ]
  },
  {
   "cell_type": "code",
   "execution_count": null,
   "id": "f06307a0",
   "metadata": {},
   "outputs": [],
   "source": [
    "scatter(log2.(agren.it09),log2.(agren.it10),lab=\"\")"
   ]
  },
  {
   "cell_type": "markdown",
   "id": "8f2dd38a",
   "metadata": {
    "slideshow": {
     "slide_type": "slide"
    }
   },
   "source": [
    "## Modeling: linear regression"
   ]
  },
  {
   "cell_type": "code",
   "execution_count": null,
   "id": "28e28c0d",
   "metadata": {},
   "outputs": [],
   "source": [
    "out0 = lm(@formula(it11~it09+flc),agren)"
   ]
  },
  {
   "cell_type": "markdown",
   "id": "e4da53a8",
   "metadata": {},
   "source": [
    "## Extracting information"
   ]
  },
  {
   "cell_type": "code",
   "execution_count": null,
   "id": "9f6215f2",
   "metadata": {},
   "outputs": [],
   "source": [
    "coef(out0)"
   ]
  },
  {
   "cell_type": "code",
   "execution_count": null,
   "id": "fd03d889",
   "metadata": {},
   "outputs": [],
   "source": [
    "vcov(out0)"
   ]
  },
  {
   "cell_type": "markdown",
   "id": "6d87b4f5",
   "metadata": {
    "slideshow": {
     "slide_type": "slide"
    }
   },
   "source": [
    "## Residual plots"
   ]
  },
  {
   "cell_type": "code",
   "execution_count": null,
   "id": "45a13018",
   "metadata": {},
   "outputs": [],
   "source": [
    "scatter(residuals(out0),predict(out0),lab=\"\")"
   ]
  },
  {
   "cell_type": "markdown",
   "id": "b1b1ad2e",
   "metadata": {},
   "source": [
    "## GLM"
   ]
  },
  {
   "cell_type": "code",
   "execution_count": null,
   "id": "856f2a75",
   "metadata": {},
   "outputs": [],
   "source": [
    "out1 = glm(@formula( it11 ~ log(it09) ),agren,Normal(),LogLink())"
   ]
  },
  {
   "cell_type": "markdown",
   "id": "9df40052",
   "metadata": {},
   "source": [
    "## Chaining and automation of model fitting"
   ]
  },
  {
   "cell_type": "code",
   "execution_count": null,
   "id": "1fad3cab",
   "metadata": {
    "collapsed": true,
    "jupyter": {
     "outputs_hidden": true
    },
    "tags": []
   },
   "outputs": [],
   "source": [
    "yr = [\"09\",\"10\",\"11\"]\n",
    "sw = (\"sw\" .* yr);\n",
    "it = (\"it\" .* yr);\n",
    "models = Term.(Symbol.(sw)) .~ Term.(Symbol.(it)) .+ Term.(:flc)\n",
    "\n",
    "broadcast( m->glm(m,agren,Normal(),LogLink()), models ) .|> coeftable"
   ]
  },
  {
   "cell_type": "code",
   "execution_count": null,
   "id": "3bbc18bd",
   "metadata": {
    "tags": []
   },
   "outputs": [],
   "source": [
    "( Term.(Symbol.(sw)) .~ permutedims(Term.(Symbol.(it))) .+ Term.(:flc) )  .|> \n",
    "                     ( m->glm(m,agren,Normal(),LogLink()) ) .|>\n",
    "                     print;"
   ]
  },
  {
   "cell_type": "markdown",
   "id": "9c3c39a6",
   "metadata": {},
   "source": [
    "## Generating random numbers"
   ]
  },
  {
   "cell_type": "code",
   "execution_count": null,
   "id": "7309b2b3",
   "metadata": {},
   "outputs": [],
   "source": [
    "using Random\n",
    "using Distributions"
   ]
  },
  {
   "cell_type": "code",
   "execution_count": null,
   "id": "5acb67ad",
   "metadata": {},
   "outputs": [],
   "source": [
    "# initialize random number generator\n",
    "rnd = MersenneTwister(100)\n",
    "# Draw uniform (0,1) numbers in 4x4 matrix\n",
    "rand(Cauchy(),4,4)"
   ]
  },
  {
   "cell_type": "markdown",
   "id": "ab5c01f5",
   "metadata": {},
   "source": [
    "## Calculating probabilities and densities"
   ]
  },
  {
   "cell_type": "markdown",
   "id": "12ada2ef",
   "metadata": {},
   "source": [
    "Calculating the CDF of the normal distribution"
   ]
  },
  {
   "cell_type": "code",
   "execution_count": null,
   "id": "1365c62d",
   "metadata": {},
   "outputs": [],
   "source": [
    "cdf(Cauchy(0,1),1.96)"
   ]
  },
  {
   "cell_type": "markdown",
   "id": "5e243e99",
   "metadata": {},
   "source": [
    "Quantiles of the normal distribution."
   ]
  },
  {
   "cell_type": "code",
   "execution_count": null,
   "id": "a79489e9",
   "metadata": {},
   "outputs": [],
   "source": [
    "quantile(Normal(),0.95)"
   ]
  },
  {
   "cell_type": "markdown",
   "id": "b980c41e",
   "metadata": {},
   "source": [
    "Generating random normal variables with mean 0.3 and standard deviation 0.5."
   ]
  },
  {
   "cell_type": "code",
   "execution_count": null,
   "id": "5570a74c",
   "metadata": {},
   "outputs": [],
   "source": [
    "x = rand(Normal(0.3,0.5),1000)"
   ]
  },
  {
   "cell_type": "markdown",
   "id": "45f896e6",
   "metadata": {},
   "source": [
    "We now fit the MLE assuming a normal distribution."
   ]
  },
  {
   "cell_type": "code",
   "execution_count": null,
   "id": "fccca6b4",
   "metadata": {},
   "outputs": [],
   "source": [
    "normFit = fit_mle(Laplace,x)"
   ]
  },
  {
   "cell_type": "markdown",
   "id": "0c8eadd5",
   "metadata": {},
   "source": [
    "We generate normal variables with parameters equal to the estimated ones."
   ]
  },
  {
   "cell_type": "code",
   "execution_count": null,
   "id": "c5ab3727",
   "metadata": {},
   "outputs": [],
   "source": [
    "rand(normFit,10)"
   ]
  }
 ],
 "metadata": {
  "jupytext": {
   "formats": "ipynb,jl",
   "text_representation": {
    "extension": ".jl",
    "format_name": "light",
    "format_version": "1.5",
    "jupytext_version": "1.11.1"
   }
  },
  "kernelspec": {
   "display_name": "Julia 1.6.3",
   "language": "julia",
   "name": "julia-1.6"
  },
  "language_info": {
   "name": ""
  }
 },
 "nbformat": 4,
 "nbformat_minor": 5
}
